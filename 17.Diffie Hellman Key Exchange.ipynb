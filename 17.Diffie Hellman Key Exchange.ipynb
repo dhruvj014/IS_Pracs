{
 "cells": [
  {
   "cell_type": "code",
   "execution_count": 1,
   "id": "83f2abac",
   "metadata": {},
   "outputs": [
    {
     "name": "stdout",
     "output_type": "stream",
     "text": [
      "Shared Secret (Alice): 14\n",
      "Shared Secret (Bob): 14\n"
     ]
    }
   ],
   "source": [
    "def power_mod(base, exponent, modulus):\n",
    "    result = 1\n",
    "    base = base % modulus\n",
    "\n",
    "    while exponent > 0:\n",
    "        if exponent % 2 == 1:\n",
    "            result = (result * base) % modulus\n",
    "        exponent = exponent // 2\n",
    "        base = (base * base) % modulus\n",
    "\n",
    "    return result\n",
    "\n",
    "def diffie_hellman(p, g):\n",
    "    # Alice's private key\n",
    "    a_private = 3\n",
    "\n",
    "    # Bob's private key\n",
    "    b_private = 7\n",
    "\n",
    "    # Calculate public keys\n",
    "    a_public = power_mod(g, a_private, p)\n",
    "    b_public = power_mod(g, b_private, p)\n",
    "\n",
    "    shared_secret_alice = power_mod(b_public, a_private, p)\n",
    "    shared_secret_bob = power_mod(a_public, b_private, p)\n",
    "\n",
    "    return shared_secret_alice, shared_secret_bob\n",
    "\n",
    "prime_modulus = 23\n",
    "generator = 5\n",
    "\n",
    "shared_secret_alice, shared_secret_bob = diffie_hellman(prime_modulus, generator)\n",
    "\n",
    "print(\"Shared Secret (Alice):\", shared_secret_alice)\n",
    "print(\"Shared Secret (Bob):\", shared_secret_bob)\n"
   ]
  },
  {
   "cell_type": "code",
   "execution_count": null,
   "id": "88f73640",
   "metadata": {},
   "outputs": [],
   "source": []
  }
 ],
 "metadata": {
  "kernelspec": {
   "display_name": "Python 3 (ipykernel)",
   "language": "python",
   "name": "python3"
  },
  "language_info": {
   "codemirror_mode": {
    "name": "ipython",
    "version": 3
   },
   "file_extension": ".py",
   "mimetype": "text/x-python",
   "name": "python",
   "nbconvert_exporter": "python",
   "pygments_lexer": "ipython3",
   "version": "3.10.6"
  }
 },
 "nbformat": 4,
 "nbformat_minor": 5
}
