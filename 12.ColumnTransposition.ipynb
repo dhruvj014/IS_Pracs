{
 "cells": [
  {
   "cell_type": "code",
   "execution_count": 1,
   "id": "d8fcfe75",
   "metadata": {},
   "outputs": [
    {
     "name": "stdout",
     "output_type": "stream",
     "text": [
      "Encrypted Text: ttnaaptmtsuoAodwcoiknlPet\n",
      "Keyword:  4312567\n",
      "Matrix :\n",
      "A t t a c k P\n",
      "o s t p o n e\n",
      "d u n t i l t\n",
      "w o a m   \n"
     ]
    }
   ],
   "source": [
    "def encrypt_columnar_transposition_verbose(plaintext, keyword):\n",
    "    plaintext = plaintext.replace(\" \", \"\")\n",
    "\n",
    "    # Determine the dimensions of the matrix\n",
    "    num_rows = len(plaintext) // len(keyword)\n",
    "    if len(plaintext) % len(keyword):\n",
    "        num_rows += 1\n",
    "\n",
    "    # Create a matrix to arrange the plaintext\n",
    "    matrix = [['' for _ in range(len(keyword))] for _ in range(num_rows)]\n",
    "\n",
    "    # Fill the matrix with plaintext characters\n",
    "    index = 0\n",
    "    for row in matrix:\n",
    "        for i in range(len(row)):\n",
    "            if index < len(plaintext):\n",
    "                row[i] = plaintext[index]\n",
    "                index += 1\n",
    "\n",
    "    # Create a mapping of keyword numbers to column indexes\n",
    "    mapping = {int(k): i for i, k in enumerate(keyword)}\n",
    "\n",
    "    # Encrypt by reading columns in the order of the keyword\n",
    "    encrypted_text = ''\n",
    "    for k in sorted(mapping):\n",
    "        col_index = mapping[k]\n",
    "        for row in matrix:\n",
    "            if row[col_index] != '':\n",
    "                encrypted_text += row[col_index]\n",
    "\n",
    "    # Prepare the matrix for printing in a vertical format\n",
    "    formatted_matrix = [\" \".join(row) for row in matrix]\n",
    "    matrix_vertical = \"\\n\".join(formatted_matrix)\n",
    "    \n",
    "    return encrypted_text, matrix_vertical\n",
    "\n",
    "# Example usage\n",
    "plaintext = \"Attack Postponed until two am\"\n",
    "keyword = \"4312567\"\n",
    "encrypted_text, matrix_output = encrypt_columnar_transposition_verbose(plaintext, keyword)\n",
    "print(\"Encrypted Text:\", encrypted_text)\n",
    "print(\"Keyword: \",keyword)\n",
    "print(\"Matrix :\")\n",
    "print(matrix_output)"
   ]
  },
  {
   "cell_type": "code",
   "execution_count": 2,
   "id": "39efda5c",
   "metadata": {},
   "outputs": [
    {
     "data": {
      "text/plain": [
       "'h_r_Dvu_'"
      ]
     },
     "execution_count": 2,
     "metadata": {},
     "output_type": "execute_result"
    }
   ],
   "source": [
    "import pandas as pd\n",
    "import math\n",
    "def encrypt(pt,key):\n",
    "  cols=[]\n",
    "  for i in key:\n",
    "    cols.append(i)\n",
    "\n",
    "  df=pd.DataFrame(columns=cols)\n",
    "\n",
    "  rows=int(math.ceil(len(pt)/len(key)))\n",
    "\n",
    "  for col in cols:\n",
    "    df[col]=[\"\" for i in range(rows)]\n",
    "\n",
    "  ptr=0\n",
    "  pt=pt.replace(\" \",\"_\")\n",
    "\n",
    "  for row in range(rows):\n",
    "    for col in cols:\n",
    "      try:\n",
    "        df[col][row]=pt[ptr]\n",
    "        ptr=ptr+1\n",
    "      except:\n",
    "        df[col][row]=\"_\"\n",
    "\n",
    "  l1=cols\n",
    "\n",
    "  l1.sort()\n",
    "\n",
    "  ct=\"\"\n",
    "\n",
    "  for col in l1:\n",
    "    for row in range(rows):\n",
    "      ct=ct+df[col][row]\n",
    "\n",
    "  return ct\n",
    "\n",
    "def decrypt(ct,key):\n",
    "  cols=[]\n",
    "  for col in key:\n",
    "    cols.append(col)\n",
    "  df=pd.DataFrame(columns=cols)\n",
    "  rows=int(len(ct)/len(cols))\n",
    "  for col in cols:\n",
    "    df[col]=[\"\" for i in range(rows)]\n",
    "  l1=cols\n",
    "  l1.sort()\n",
    "  rang=0\n",
    "  for col in l1:\n",
    "    prev_range=rang\n",
    "    rang=rang+rows\n",
    "    l2=[]\n",
    "    roi=ct[prev_range:rang]\n",
    "    for i in roi:\n",
    "      l2.append(i)\n",
    "    df[col]=l2\n",
    "  pt=\"\"\n",
    "  cols=[]\n",
    "  for col in key:\n",
    "    cols.append(col)\n",
    "  for row in range(rows):\n",
    "    for col in cols:\n",
    "      pt=pt+df[col][row]\n",
    "  pt=pt.replace(\"_\",\" \")\n",
    "  return pt\n",
    "encrypt(\"Dhruv\",\"HACK\")"
   ]
  },
  {
   "cell_type": "code",
   "execution_count": 3,
   "id": "35dd8369",
   "metadata": {},
   "outputs": [
    {
     "data": {
      "text/plain": [
       "'Dhruv   '"
      ]
     },
     "execution_count": 3,
     "metadata": {},
     "output_type": "execute_result"
    }
   ],
   "source": [
    "decrypt(\"h_r_Dvu_\",\"HACK\")"
   ]
  }
 ],
 "metadata": {
  "kernelspec": {
   "display_name": "Python 3 (ipykernel)",
   "language": "python",
   "name": "python3"
  },
  "language_info": {
   "codemirror_mode": {
    "name": "ipython",
    "version": 3
   },
   "file_extension": ".py",
   "mimetype": "text/x-python",
   "name": "python",
   "nbconvert_exporter": "python",
   "pygments_lexer": "ipython3",
   "version": "3.10.6"
  }
 },
 "nbformat": 4,
 "nbformat_minor": 5
}
