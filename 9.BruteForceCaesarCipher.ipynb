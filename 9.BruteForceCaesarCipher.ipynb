{
 "cells": [
  {
   "cell_type": "code",
   "execution_count": 1,
   "id": "54a44cbe",
   "metadata": {},
   "outputs": [
    {
     "name": "stdout",
     "output_type": "stream",
     "text": [
      "Shift 1: There is a secret there is a secret\n",
      "Shift 2: Sgdqd hr z rdbqds sgdqd hr z rdbqds\n",
      "Shift 3: Rfcpc gq y qcapcr rfcpc gq y qcapcr\n",
      "Shift 4: Qebob fp x pbzobq qebob fp x pbzobq\n",
      "Shift 5: Pdana eo w oaynap pdana eo w oaynap\n",
      "Shift 6: Oczmz dn v nzxmzo oczmz dn v nzxmzo\n",
      "Shift 7: Nbyly cm u mywlyn nbyly cm u mywlyn\n",
      "Shift 8: Maxkx bl t lxvkxm maxkx bl t lxvkxm\n",
      "Shift 9: Lzwjw ak s kwujwl lzwjw ak s kwujwl\n",
      "Shift 10: Kyviv zj r jvtivk kyviv zj r jvtivk\n",
      "Shift 11: Jxuhu yi q iushuj jxuhu yi q iushuj\n",
      "Shift 12: Iwtgt xh p htrgti iwtgt xh p htrgti\n",
      "Shift 13: Hvsfs wg o gsqfsh hvsfs wg o gsqfsh\n",
      "Shift 14: Gurer vf n frperg gurer vf n frperg\n",
      "Shift 15: Ftqdq ue m eqodqf ftqdq ue m eqodqf\n",
      "Shift 16: Espcp td l dpncpe espcp td l dpncpe\n",
      "Shift 17: Drobo sc k combod drobo sc k combod\n",
      "Shift 18: Cqnan rb j bnlanc cqnan rb j bnlanc\n",
      "Shift 19: Bpmzm qa i amkzmb bpmzm qa i amkzmb\n",
      "Shift 20: Aolyl pz h zljyla aolyl pz h zljyla\n",
      "Shift 21: Znkxk oy g ykixkz znkxk oy g ykixkz\n",
      "Shift 22: Ymjwj nx f xjhwjy ymjwj nx f xjhwjy\n",
      "Shift 23: Xlivi mw e wigvix xlivi mw e wigvix\n",
      "Shift 24: Wkhuh lv d vhfuhw wkhuh lv d vhfuhw\n",
      "Shift 25: Vjgtg ku c ugetgv vjgtg ku c ugetgv\n"
     ]
    }
   ],
   "source": [
    "def caesar_brute_force(ciphertext):\n",
    "    for shift in range(1, 26):\n",
    "        decrypted_text = \"\"\n",
    "        \n",
    "        for char in ciphertext:\n",
    "            if char.isalpha():\n",
    "                start = ord('a') if char.islower() else ord('A')\n",
    "                decrypted_text += chr((ord(char) - start - shift) % 26 + start)\n",
    "            else:\n",
    "                decrypted_text += char\n",
    "\n",
    "        print(f\"Shift {shift}: {decrypted_text}\")\n",
    "\n",
    "encrypted_text = \"Uifsf jt b tfdsfu uifsf jt b tfdsfu\"\n",
    "\n",
    "caesar_brute_force(encrypted_text)"
   ]
  },
  {
   "cell_type": "code",
   "execution_count": null,
   "id": "f85fd432",
   "metadata": {},
   "outputs": [],
   "source": []
  }
 ],
 "metadata": {
  "kernelspec": {
   "display_name": "Python 3 (ipykernel)",
   "language": "python",
   "name": "python3"
  },
  "language_info": {
   "codemirror_mode": {
    "name": "ipython",
    "version": 3
   },
   "file_extension": ".py",
   "mimetype": "text/x-python",
   "name": "python",
   "nbconvert_exporter": "python",
   "pygments_lexer": "ipython3",
   "version": "3.10.6"
  }
 },
 "nbformat": 4,
 "nbformat_minor": 5
}
