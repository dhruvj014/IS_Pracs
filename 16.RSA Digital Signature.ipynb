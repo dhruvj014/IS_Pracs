{
 "cells": [
  {
   "cell_type": "code",
   "execution_count": 3,
   "id": "301a9e3f",
   "metadata": {},
   "outputs": [],
   "source": [
    "import random\n",
    "from hashlib import sha256\n",
    "\n",
    "def generatePrime(bits):\n",
    "  p=random.getrandbits(bits)\n",
    "  if(is_prime(p)):\n",
    "    return p\n",
    "  else:\n",
    "    return generatePrime(bits)\n",
    "\n",
    "def is_prime(n):\n",
    "    if n < 2:\n",
    "        return False\n",
    "    for i in range(2, int(n**0.5) + 1):\n",
    "        if n % i == 0:\n",
    "            return False\n",
    "    return True\n",
    "\n",
    "def mod_inverse(a, m):\n",
    "    m0, x0, x1 = m, 0, 1\n",
    "    while a > 1:\n",
    "        q = a // m\n",
    "        m, a = a % m, m\n",
    "        x0, x1 = x1 - q * x0, x0\n",
    "    return x1 + m0 if x1 < 0 else x1\n",
    "\n",
    "def gcd(a, b):\n",
    "    if a == 0:\n",
    "        return b\n",
    "\n",
    "    return gcd(b % a, a)"
   ]
  },
  {
   "cell_type": "code",
   "execution_count": 4,
   "id": "5c97fd0d",
   "metadata": {},
   "outputs": [
    {
     "name": "stdout",
     "output_type": "stream",
     "text": [
      "Hashed input\n",
      "1cb0ba125f84c982b00ba3639cdfb2cee6b70f94b5e0115c045fef607af4f216\n",
      "Value of p selected: \n",
      "457\n",
      "Value of q selected: \n",
      "577\n",
      "Private Key: \n",
      "(51017, 263689)\n",
      "Public Key: \n",
      "(112889, 263689)\n"
     ]
    },
    {
     "data": {
      "text/plain": [
       "'3302068145286401702472864023756933020253771174142480449585507896814511459958525377286401702471702472864023756951015668965101511459681451411582480442864025377681451511221511226689628640247922170247248044114595078928640117414151122170247330203302011741468145170247507891174142480441511222480446689617024724792223756924804450789248044253773302066896'"
      ]
     },
     "execution_count": 4,
     "metadata": {},
     "output_type": "execute_result"
    }
   ],
   "source": [
    "def encrypt(pt):\n",
    "  pt=sha256(pt.encode('utf-8')).hexdigest()\n",
    "  print(\"Hashed input\")\n",
    "  print(pt)\n",
    "  bits=10\n",
    "  p=generatePrime(bits)\n",
    "  q=generatePrime(bits)\n",
    "\n",
    "  print('Value of p selected: ')\n",
    "  print(p)\n",
    "  print('Value of q selected: ')\n",
    "  print(q)\n",
    "\n",
    "  n=p*q\n",
    "\n",
    "  phi=(p-1)*(q-1)\n",
    "\n",
    "  e=random.randrange(1,phi)\n",
    "  g=gcd(e,phi)\n",
    "  while(g!=1):\n",
    "    e=random.randrange(1,phi)\n",
    "    g=gcd(e,phi)\n",
    "\n",
    "  d=mod_inverse(e,phi)\n",
    "\n",
    "  print('Private Key: ')\n",
    "  print((e,n))\n",
    "\n",
    "  print('Public Key: ')\n",
    "  print((d,n))\n",
    "\n",
    "  ct=\"\"\n",
    "  for i in pt:\n",
    "    ct=ct+str(pow(ord(i),e,n))\n",
    "\n",
    "  return ct\n",
    "\n",
    "encrypt(\"Information\")"
   ]
  },
  {
   "cell_type": "code",
   "execution_count": null,
   "id": "550b2473",
   "metadata": {},
   "outputs": [],
   "source": []
  }
 ],
 "metadata": {
  "kernelspec": {
   "display_name": "Python 3 (ipykernel)",
   "language": "python",
   "name": "python3"
  },
  "language_info": {
   "codemirror_mode": {
    "name": "ipython",
    "version": 3
   },
   "file_extension": ".py",
   "mimetype": "text/x-python",
   "name": "python",
   "nbconvert_exporter": "python",
   "pygments_lexer": "ipython3",
   "version": "3.10.6"
  }
 },
 "nbformat": 4,
 "nbformat_minor": 5
}
