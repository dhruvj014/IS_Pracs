{
 "cells": [
  {
   "cell_type": "code",
   "execution_count": 1,
   "id": "27e50b9d",
   "metadata": {},
   "outputs": [
    {
     "name": "stdout",
     "output_type": "stream",
     "text": [
      "The GCD of 48 and 36 is: 12\n",
      "Bézout's coefficients: x = 1, y = -1\n"
     ]
    }
   ],
   "source": [
    "def extended_euclidean_algorithm(a, b):\n",
    "    if b == 0:\n",
    "        return a, 1, 0\n",
    "\n",
    "    gcd, x1, y1 = extended_euclidean_algorithm(b, a % b)\n",
    "\n",
    "    x = y1\n",
    "    y = x1 - (a // b) * y1\n",
    "\n",
    "    return gcd, x, y\n",
    "\n",
    "# Example usage:\n",
    "num1 = 48\n",
    "num2 = 36\n",
    "\n",
    "gcd_result, x, y = extended_euclidean_algorithm(num1, num2)\n",
    "\n",
    "print(f\"The GCD of {num1} and {num2} is: {gcd_result}\")\n",
    "print(f\"Bézout's coefficients: x = {x}, y = {y}\")"
   ]
  },
  {
   "cell_type": "code",
   "execution_count": null,
   "id": "8a6ee1fb",
   "metadata": {},
   "outputs": [],
   "source": []
  }
 ],
 "metadata": {
  "kernelspec": {
   "display_name": "Python 3 (ipykernel)",
   "language": "python",
   "name": "python3"
  },
  "language_info": {
   "codemirror_mode": {
    "name": "ipython",
    "version": 3
   },
   "file_extension": ".py",
   "mimetype": "text/x-python",
   "name": "python",
   "nbconvert_exporter": "python",
   "pygments_lexer": "ipython3",
   "version": "3.10.6"
  }
 },
 "nbformat": 4,
 "nbformat_minor": 5
}
