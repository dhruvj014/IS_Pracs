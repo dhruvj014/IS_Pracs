{
 "cells": [
  {
   "cell_type": "code",
   "execution_count": 2,
   "id": "45393905",
   "metadata": {},
   "outputs": [
    {
     "data": {
      "text/plain": [
       "{\"Alice's Private Key\": 19,\n",
       " \"Bob's Private Key\": 11,\n",
       " \"Alice's Public Key\": 7,\n",
       " \"Bob's Public Key\": 22,\n",
       " \"Eve's Private Key for Alice\": 6,\n",
       " \"Eve's Private Key for Bob\": 23,\n",
       " \"Eve's Fake Public Key for Alice\": 8,\n",
       " \"Eve's Fake Public Key for Bob\": 5,\n",
       " \"Alice's Shared Secret (with Eve)\": 7,\n",
       " \"Bob's Shared Secret (with Eve)\": 1,\n",
       " \"Eve's Shared Secret with Alice\": 7,\n",
       " \"Eve's Shared Secret with Bob\": 1}"
      ]
     },
     "execution_count": 2,
     "metadata": {},
     "output_type": "execute_result"
    }
   ],
   "source": [
    "import random\n",
    "def diffie_hellman_mitm_attack():\n",
    "    # Original Diffie-Hellman setup\n",
    "    p = 23  # Example prime number\n",
    "    g = 5   # Example base\n",
    "\n",
    "    # Alice and Bob generate their private keys\n",
    "    private_key_a = random.randint(1, p)\n",
    "    private_key_b = random.randint(1, p)\n",
    "\n",
    "    # Normally, they would exchange public keys, but Eve intercepts these\n",
    "    public_key_a = pow(g, private_key_a, p)\n",
    "    public_key_b = pow(g, private_key_b, p)\n",
    "\n",
    "    # Eve's private keys for her separate exchanges with Alice and Bob\n",
    "    private_key_e_a = random.randint(1, p)  # Eve's private key for Alice\n",
    "    private_key_e_b = random.randint(1, p)  # Eve's private key for Bob\n",
    "\n",
    "    # Eve creates fake public keys to send to Alice and Bob\n",
    "    fake_public_key_e_a = pow(g, private_key_e_a, p)\n",
    "    fake_public_key_e_b = pow(g, private_key_e_b, p)\n",
    "\n",
    "    # Alice and Bob compute their shared secrets using Eve's fake keys\n",
    "    shared_secret_a = pow(fake_public_key_e_b, private_key_a, p)\n",
    "    shared_secret_b = pow(fake_public_key_e_a, private_key_b, p)\n",
    "\n",
    "    # Eve computes her shared secrets with Alice and Bob\n",
    "    eve_shared_secret_with_a = pow(public_key_a, private_key_e_b, p)\n",
    "    eve_shared_secret_with_b = pow(public_key_b, private_key_e_a, p)\n",
    "\n",
    "    return {\n",
    "        \"Alice's Private Key\": private_key_a,\n",
    "        \"Bob's Private Key\": private_key_b,\n",
    "        \"Alice's Public Key\": public_key_a,\n",
    "        \"Bob's Public Key\": public_key_b,\n",
    "        \"Eve's Private Key for Alice\": private_key_e_a,\n",
    "        \"Eve's Private Key for Bob\": private_key_e_b,\n",
    "        \"Eve's Fake Public Key for Alice\": fake_public_key_e_a,\n",
    "        \"Eve's Fake Public Key for Bob\": fake_public_key_e_b,\n",
    "        \"Alice's Shared Secret (with Eve)\": shared_secret_a,\n",
    "        \"Bob's Shared Secret (with Eve)\": shared_secret_b,\n",
    "        \"Eve's Shared Secret with Alice\": eve_shared_secret_with_a,\n",
    "        \"Eve's Shared Secret with Bob\": eve_shared_secret_with_b\n",
    "    }\n",
    "\n",
    "diffie_hellman_mitm_results = diffie_hellman_mitm_attack()\n",
    "diffie_hellman_mitm_results"
   ]
  },
  {
   "cell_type": "code",
   "execution_count": 1,
   "id": "c4fb2064",
   "metadata": {},
   "outputs": [],
   "source": [
    "def primitiveCheck(g,p):\n",
    "  l1=[]\n",
    "  for i in range(1,p):\n",
    "    l1.append(pow(g,i)%p)\n",
    "  for i in l1:\n",
    "    if(l1.count(i)>1):\n",
    "      return -1\n",
    "    return 1\n",
    "\n",
    "def is_prime(n):\n",
    "    if n < 2:\n",
    "        return False\n",
    "    for i in range(2, int(n**0.5) + 1):\n",
    "        if n % i == 0:\n",
    "            return False\n",
    "    return True\n",
    "\n",
    "def mod_inverse(a, m):\n",
    "    m0, x0, x1 = m, 0, 1\n",
    "    while a > 1:\n",
    "        q = a // m\n",
    "        m, a = a % m, m\n",
    "        x0, x1 = x1 - q * x0, x0\n",
    "    return x1 + m0 if x1 < 0 else x1"
   ]
  },
  {
   "cell_type": "markdown",
   "id": "88b9839f",
   "metadata": {},
   "source": [
    "# Patwar"
   ]
  },
  {
   "cell_type": "code",
   "execution_count": 6,
   "id": "fb17499c",
   "metadata": {},
   "outputs": [
    {
     "name": "stdout",
     "output_type": "stream",
     "text": [
      "Select private Key for Alice - 7\n",
      "Select private key for Bob - 8\n",
      "Select private key for Hacker - 9\n",
      "Hacker has connected with Alice\n",
      "Shared key of Hacker with Alice\n",
      "195\n",
      "Hacker has connected with Bob\n",
      "Shared key of Hacker with Bob\n",
      "129\n"
     ]
    }
   ],
   "source": [
    "import random\n",
    "p=random.randrange(1024)\n",
    "while(True):\n",
    "  if(is_prime(p)):\n",
    "    break\n",
    "  else:\n",
    "    p=random.randrange(1024)\n",
    "\n",
    "g=random.randrange(p)\n",
    "while(True):\n",
    "  if(primitiveCheck(g,p)==1):\n",
    "    break\n",
    "  else:\n",
    "    g=random.randrange(p)\n",
    "\n",
    "a=int(input(\"Select private Key for Alice - \"))\n",
    "b=int(input(\"Select private key for Bob - \"))\n",
    "c=int(input(\"Select private key for Hacker - \"))\n",
    "\n",
    "x1=pow(g,a)%p\n",
    "h1=pow(g,c)%p\n",
    "y1=pow(g,b)%p\n",
    "\n",
    "x2=pow(h1,a)%p\n",
    "hx2=pow(x1,c)%p\n",
    "\n",
    "hy2=pow(y1,c)%p\n",
    "y2=pow(h1,b)%p\n",
    "\n",
    "if(hx2==x2):\n",
    "  print(\"Hacker has connected with Alice\")\n",
    "  print(\"Shared key of Hacker with Alice\")\n",
    "  print(hx2)\n",
    "\n",
    "if(hy2==y2):\n",
    "  print(\"Hacker has connected with Bob\")\n",
    "  print(\"Shared key of Hacker with Bob\")\n",
    "  print(hy2)"
   ]
  },
  {
   "cell_type": "code",
   "execution_count": null,
   "id": "a2139eff",
   "metadata": {},
   "outputs": [],
   "source": []
  }
 ],
 "metadata": {
  "kernelspec": {
   "display_name": "Python 3 (ipykernel)",
   "language": "python",
   "name": "python3"
  },
  "language_info": {
   "codemirror_mode": {
    "name": "ipython",
    "version": 3
   },
   "file_extension": ".py",
   "mimetype": "text/x-python",
   "name": "python",
   "nbconvert_exporter": "python",
   "pygments_lexer": "ipython3",
   "version": "3.10.6"
  }
 },
 "nbformat": 4,
 "nbformat_minor": 5
}
