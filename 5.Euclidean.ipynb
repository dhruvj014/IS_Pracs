{
 "cells": [
  {
   "cell_type": "code",
   "execution_count": 2,
   "id": "8695c3aa",
   "metadata": {},
   "outputs": [
    {
     "name": "stdout",
     "output_type": "stream",
     "text": [
      "The GCD of 36 and 18 is: 18\n"
     ]
    }
   ],
   "source": [
    "def euclidean_algorithm(a, b):\n",
    "    while b:\n",
    "        a, b = b, a % b\n",
    "    return a\n",
    "\n",
    "# Example usage:\n",
    "num1 = 36\n",
    "num2 = 18\n",
    "\n",
    "gcd_result = euclidean_algorithm(num1, num2)\n",
    "\n",
    "print(f\"The GCD of {num1} and {num2} is: {gcd_result}\")"
   ]
  },
  {
   "cell_type": "code",
   "execution_count": null,
   "id": "0782919f",
   "metadata": {},
   "outputs": [],
   "source": []
  }
 ],
 "metadata": {
  "kernelspec": {
   "display_name": "Python 3 (ipykernel)",
   "language": "python",
   "name": "python3"
  },
  "language_info": {
   "codemirror_mode": {
    "name": "ipython",
    "version": 3
   },
   "file_extension": ".py",
   "mimetype": "text/x-python",
   "name": "python",
   "nbconvert_exporter": "python",
   "pygments_lexer": "ipython3",
   "version": "3.10.6"
  }
 },
 "nbformat": 4,
 "nbformat_minor": 5
}
