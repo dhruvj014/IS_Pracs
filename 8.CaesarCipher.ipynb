{
 "cells": [
  {
   "cell_type": "code",
   "execution_count": 2,
   "id": "aeb2ce24",
   "metadata": {},
   "outputs": [
    {
     "name": "stdout",
     "output_type": "stream",
     "text": [
      "Original: ATTACK\n",
      "Encrypted: DWWDFN\n",
      "Decrypted: ATTACK\n"
     ]
    }
   ],
   "source": [
    "def caesar_cipher(text, shift):\n",
    "    result = \"\"\n",
    "\n",
    "    for char in text:\n",
    "        if char.isalpha():  # Check if the character is an alphabet letter\n",
    "            start = ord('a') if char.islower() else ord('A')\n",
    "            result += chr((ord(char) - start + shift) % 26 + start)\n",
    "        else:\n",
    "            result += char  # Preserve non-alphabetic characters\n",
    "\n",
    "    return result\n",
    "\n",
    "def caesar_decipher(text, shift):\n",
    "    result = \"\"\n",
    "\n",
    "    for char in text:\n",
    "        if char.isalpha():  # Check if the character is an alphabet letter\n",
    "            start = ord('a') if char.islower() else ord('A')\n",
    "            result += chr((ord(char) - start - shift) % 26 + start)\n",
    "        else:\n",
    "            result += char  # Preserve non-alphabetic characters\n",
    "\n",
    "    return result\n",
    "\n",
    "# Example usage:\n",
    "plaintext = \"ATTACK\"\n",
    "shift_amount = 3\n",
    "encrypted_text = caesar_cipher(plaintext, shift_amount)\n",
    "decrypted_text = caesar_decipher(encrypted_text,shift_amount)\n",
    "\n",
    "print(f\"Original: {plaintext}\")\n",
    "print(f\"Encrypted: {encrypted_text}\")\n",
    "print(f\"Decrypted: {decrypted_text}\")"
   ]
  },
  {
   "cell_type": "code",
   "execution_count": null,
   "id": "7b50b5b7",
   "metadata": {},
   "outputs": [],
   "source": []
  }
 ],
 "metadata": {
  "kernelspec": {
   "display_name": "Python 3 (ipykernel)",
   "language": "python",
   "name": "python3"
  },
  "language_info": {
   "codemirror_mode": {
    "name": "ipython",
    "version": 3
   },
   "file_extension": ".py",
   "mimetype": "text/x-python",
   "name": "python",
   "nbconvert_exporter": "python",
   "pygments_lexer": "ipython3",
   "version": "3.10.6"
  }
 },
 "nbformat": 4,
 "nbformat_minor": 5
}
