{
 "cells": [
  {
   "cell_type": "code",
   "execution_count": 3,
   "id": "3f395ec5",
   "metadata": {},
   "outputs": [
    {
     "name": "stdout",
     "output_type": "stream",
     "text": [
      "Enter plain text:ATTACK\n",
      "Enter the key:5\n",
      "Caesar Cipher: FYYFHP\n",
      "The Cipher Text is: YFP FYH\n"
     ]
    }
   ],
   "source": [
    "def main():\n",
    "    inp = input(\"Enter plain text:\")\n",
    "\n",
    "    k = int(input(\"Enter the key:\"))\n",
    "    cc = caesar_cipher(inp,k)\n",
    "    print(\"Caesar Cipher:\",cc)\n",
    "    rf = rail_fence(cc)\n",
    "\n",
    "def caesar_cipher(inp,k):\n",
    "    ans=\"\"\n",
    "    for i in range(len(inp)):\n",
    "        if inp[i] == \" \":\n",
    "            ans+= \" \"\n",
    "        else:\n",
    "            ans+=chr(ord(inp[i])+k%26)\n",
    "    return ans\n",
    "\n",
    "def rail_fence(cc):\n",
    "    even_chars = ''\n",
    "    odd_chars = ''\n",
    "    for i in range(len(cc)):\n",
    "        if i%2==0:\n",
    "            even_chars += cc[i]\n",
    "        else:\n",
    "            odd_chars += cc[i]\n",
    "    print(\"The Cipher Text is:\",odd_chars +\" \" + even_chars)\n",
    "\n",
    "if __name__ == '__main__':\n",
    "    main()"
   ]
  },
  {
   "cell_type": "code",
   "execution_count": 1,
   "id": "389be24a",
   "metadata": {},
   "outputs": [
    {
     "data": {
      "text/plain": [
       "'wnMwR_DfGdq_'"
      ]
     },
     "execution_count": 1,
     "metadata": {},
     "output_type": "execute_result"
    }
   ],
   "source": [
    "import pandas as pd\n",
    "import math\n",
    "\n",
    "def caeser_encrypt(pt,key):\n",
    "  ct=\"\"\n",
    "  for i in pt:\n",
    "    if(i.isupper()):\n",
    "      ct=ct+chr((ord(i)+key-65)%26+65)\n",
    "    else:\n",
    "      ct=ct+chr((ord(i)+key-97)%26+97)\n",
    "  return ct\n",
    "\n",
    "def columnar_encrypt(pt,key):\n",
    "  cols=[]\n",
    "  for i in key:\n",
    "    cols.append(i)\n",
    "  df=pd.DataFrame(columns=cols)\n",
    "  rows=int(math.ceil(len(pt)/len(key)))\n",
    "  for col in cols:\n",
    "    df[col]=[\"\" for i in range(rows)]\n",
    "  ptr=0\n",
    "  pt=pt.replace(\" \",\"_\")\n",
    "  for row in range(rows):\n",
    "    for col in cols:\n",
    "      try:\n",
    "        df[col][row]=pt[ptr]\n",
    "        ptr=ptr+1\n",
    "      except:\n",
    "        df[col][row]=\"_\"\n",
    "  l1=cols\n",
    "  l1.sort()\n",
    "  ct=\"\"\n",
    "  for col in l1:\n",
    "    for row in range(rows):\n",
    "      ct=ct+df[col][row]\n",
    "  return ct\n",
    "\n",
    "def product_encrypt(pt,key1,key2):\n",
    "    ct1=caeser_encrypt(pt,key1)\n",
    "    ct2=columnar_encrypt(ct1,key2)\n",
    "    return ct2\n",
    "\n",
    "\n",
    "product_encrypt(\"AttackOnDJ\",3,\"HACK\")"
   ]
  },
  {
   "cell_type": "code",
   "execution_count": null,
   "id": "592f1a6c",
   "metadata": {},
   "outputs": [],
   "source": []
  }
 ],
 "metadata": {
  "kernelspec": {
   "display_name": "Python 3 (ipykernel)",
   "language": "python",
   "name": "python3"
  },
  "language_info": {
   "codemirror_mode": {
    "name": "ipython",
    "version": 3
   },
   "file_extension": ".py",
   "mimetype": "text/x-python",
   "name": "python",
   "nbconvert_exporter": "python",
   "pygments_lexer": "ipython3",
   "version": "3.10.6"
  }
 },
 "nbformat": 4,
 "nbformat_minor": 5
}
