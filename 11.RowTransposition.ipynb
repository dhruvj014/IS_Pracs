{
 "cells": [
  {
   "cell_type": "code",
   "execution_count": 1,
   "id": "92116842",
   "metadata": {},
   "outputs": [],
   "source": [
    "def encrypt_row_transposition_cipher(plaintext, key):\n",
    "    # Remove spaces from plaintext and convert key to integer list\n",
    "    plaintext = plaintext.replace(\" \", \"\")\n",
    "    key_ints = [int(k) for k in key]\n",
    "\n",
    "    # Determine the dimensions of the matrix\n",
    "    num_cols = len(key)\n",
    "    num_rows = len(plaintext) // num_cols\n",
    "    if len(plaintext) % num_cols:\n",
    "        num_rows += 1\n",
    "\n",
    "    # Create a matrix to arrange the plaintext\n",
    "    matrix = [['' for _ in range(num_cols)] for _ in range(num_rows)]\n",
    "\n",
    "    # Fill the matrix with plaintext characters\n",
    "    index = 0\n",
    "    for row in matrix:\n",
    "        for i in range(len(row)):\n",
    "            if index < len(plaintext):\n",
    "                row[i] = plaintext[index]\n",
    "                index += 1\n",
    "\n",
    "    # Create a mapping of key numbers to column indexes\n",
    "    mapping = {k: i for i, k in enumerate(key_ints)}\n",
    "\n",
    "    # Encrypt by reading columns in the order specified by the key\n",
    "    encrypted_text = ''\n",
    "    for k in sorted(mapping.keys()):\n",
    "        col_index = mapping[k]\n",
    "        for row in matrix:\n",
    "            if row[col_index] != '':\n",
    "                encrypted_text += row[col_index]\n",
    "\n",
    "    # Prepare output\n",
    "    formatted_matrix_row_wise = [\" \".join(row) for row in matrix]\n",
    "    formatted_matrix_col_wise = [\" \".join([row[i] for row in matrix if row[i] != '']) for i in range(num_cols)]\n",
    "\n",
    "    output = {\n",
    "        \"Original Plaintext\": plaintext,\n",
    "        \"Key\": key,\n",
    "        \"Matrix (Row-wise)\": formatted_matrix_row_wise,\n",
    "        \"Matrix (Column-wise)\": formatted_matrix_col_wise,\n",
    "        \"Encrypted Text\": encrypted_text\n",
    "    }\n",
    "\n",
    "    return output\n",
    "\n",
    "# Example usage\n",
    "plaintext = \"Hello World\"\n",
    "key = \"4312\"  # Key for the transposition\n",
    "result = encrypt_row_transposition_cipher(plaintext, key)"
   ]
  },
  {
   "cell_type": "code",
   "execution_count": 2,
   "id": "488d3097",
   "metadata": {},
   "outputs": [
    {
     "data": {
      "text/plain": [
       "{'Original Plaintext': 'HelloWorld',\n",
       " 'Key': '4312',\n",
       " 'Matrix (Row-wise)': ['H e l l', 'o W o r', 'l d  '],\n",
       " 'Matrix (Column-wise)': ['H o l', 'e W d', 'l o', 'l r'],\n",
       " 'Encrypted Text': 'lolreWdHol'}"
      ]
     },
     "execution_count": 2,
     "metadata": {},
     "output_type": "execute_result"
    }
   ],
   "source": [
    "result"
   ]
  },
  {
   "cell_type": "code",
   "execution_count": 7,
   "id": "db3c1440",
   "metadata": {},
   "outputs": [],
   "source": [
    "import math\n",
    "import numpy as np\n",
    "import pandas as pd\n",
    "def encrypt(pt,key):\n",
    "  rows=[]\n",
    "  for i in key:\n",
    "    rows.append(i)\n",
    "\n",
    "  cols=math.ceil(len(pt)/len(key))\n",
    "\n",
    "  columns=[]\n",
    "  for i in range(cols+1):\n",
    "    columns.append(i)\n",
    "\n",
    "  df=pd.DataFrame(columns=columns)\n",
    "  df[0]=rows\n",
    "\n",
    "  pt=pt.replace(\" \",\"_\")\n",
    "\n",
    "  ctr=0\n",
    "  for col in columns[1:]:\n",
    "    for row in range(len(rows)):\n",
    "      try:\n",
    "        df[col][row]=pt[ctr]\n",
    "        ctr=ctr+1\n",
    "      except:\n",
    "        df[col][row]=\"_\"\n",
    "\n",
    "  l1=rows\n",
    "  l1.sort()\n",
    "  ct=\"\"\n",
    "  for row in l1:\n",
    "    prow=np.where(df[0]==row)\n",
    "    place_row=prow[0][0]\n",
    "    for col in columns[1:]:\n",
    "      ct=ct+df[col][place_row]\n",
    "\n",
    "  ct=ct.replace(\"_\",\" \")\n",
    "  return ct,df"
   ]
  },
  {
   "cell_type": "code",
   "execution_count": 10,
   "id": "cec1eb6e",
   "metadata": {},
   "outputs": [
    {
     "data": {
      "text/plain": [
       "'h r Dvu '"
      ]
     },
     "execution_count": 10,
     "metadata": {},
     "output_type": "execute_result"
    }
   ],
   "source": [
    "ct,df=encrypt(\"Dhruv\",\"HACK\")\n",
    "ct"
   ]
  },
  {
   "cell_type": "code",
   "execution_count": 11,
   "id": "36eba779",
   "metadata": {},
   "outputs": [
    {
     "data": {
      "text/html": [
       "<div>\n",
       "<style scoped>\n",
       "    .dataframe tbody tr th:only-of-type {\n",
       "        vertical-align: middle;\n",
       "    }\n",
       "\n",
       "    .dataframe tbody tr th {\n",
       "        vertical-align: top;\n",
       "    }\n",
       "\n",
       "    .dataframe thead th {\n",
       "        text-align: right;\n",
       "    }\n",
       "</style>\n",
       "<table border=\"1\" class=\"dataframe\">\n",
       "  <thead>\n",
       "    <tr style=\"text-align: right;\">\n",
       "      <th></th>\n",
       "      <th>0</th>\n",
       "      <th>1</th>\n",
       "      <th>2</th>\n",
       "    </tr>\n",
       "  </thead>\n",
       "  <tbody>\n",
       "    <tr>\n",
       "      <th>0</th>\n",
       "      <td>H</td>\n",
       "      <td>D</td>\n",
       "      <td>v</td>\n",
       "    </tr>\n",
       "    <tr>\n",
       "      <th>1</th>\n",
       "      <td>A</td>\n",
       "      <td>h</td>\n",
       "      <td>_</td>\n",
       "    </tr>\n",
       "    <tr>\n",
       "      <th>2</th>\n",
       "      <td>C</td>\n",
       "      <td>r</td>\n",
       "      <td>_</td>\n",
       "    </tr>\n",
       "    <tr>\n",
       "      <th>3</th>\n",
       "      <td>K</td>\n",
       "      <td>u</td>\n",
       "      <td>_</td>\n",
       "    </tr>\n",
       "  </tbody>\n",
       "</table>\n",
       "</div>"
      ],
      "text/plain": [
       "   0  1  2\n",
       "0  H  D  v\n",
       "1  A  h  _\n",
       "2  C  r  _\n",
       "3  K  u  _"
      ]
     },
     "execution_count": 11,
     "metadata": {},
     "output_type": "execute_result"
    }
   ],
   "source": [
    "df"
   ]
  },
  {
   "cell_type": "code",
   "execution_count": null,
   "id": "7a1065db",
   "metadata": {},
   "outputs": [],
   "source": []
  }
 ],
 "metadata": {
  "kernelspec": {
   "display_name": "Python 3 (ipykernel)",
   "language": "python",
   "name": "python3"
  },
  "language_info": {
   "codemirror_mode": {
    "name": "ipython",
    "version": 3
   },
   "file_extension": ".py",
   "mimetype": "text/x-python",
   "name": "python",
   "nbconvert_exporter": "python",
   "pygments_lexer": "ipython3",
   "version": "3.10.6"
  }
 },
 "nbformat": 4,
 "nbformat_minor": 5
}
