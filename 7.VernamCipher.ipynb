{
 "cells": [
  {
   "cell_type": "code",
   "execution_count": 4,
   "id": "e66a311e",
   "metadata": {},
   "outputs": [
    {
     "name": "stdout",
     "output_type": "stream",
     "text": [
      "Original: ATTACK\n",
      "Encrypted: -95.;/\n",
      "Decrypted: ATTACK\n"
     ]
    }
   ],
   "source": [
    "def vernam_cipher(message, key):\n",
    "    if len(message) != len(key):\n",
    "        raise ValueError(\"Message and key must be of the same length\")\n",
    "    encrypted_message = ''.join(chr(ord(m) ^ ord(k)) for m, k in zip(message, key))\n",
    "    return encrypted_message\n",
    "\n",
    "def vernam_decipher(encrypted_message, key):\n",
    "    if len(encrypted_message) != len(key):\n",
    "        raise ValueError(\"Encrypted message and key must be of the same length\")\n",
    "    decrypted_message = ''.join(chr(ord(em) ^ ord(k)) for em, k in zip(encrypted_message, key))\n",
    "    return decrypted_message\n",
    "\n",
    "plaintext = \"ATTACK\"\n",
    "key = \"lmaoxd\"\n",
    "\n",
    "encrypted_text = vernam_cipher(plaintext, key)\n",
    "decrypted_text = vernam_decipher(encrypted_text, key)\n",
    "\n",
    "print(f\"Original: {plaintext}\")\n",
    "print(f\"Encrypted: {encrypted_text}\")\n",
    "print(f\"Decrypted: {decrypted_text}\")"
   ]
  },
  {
   "cell_type": "code",
   "execution_count": null,
   "id": "00ac2d8c",
   "metadata": {},
   "outputs": [],
   "source": []
  }
 ],
 "metadata": {
  "kernelspec": {
   "display_name": "Python 3 (ipykernel)",
   "language": "python",
   "name": "python3"
  },
  "language_info": {
   "codemirror_mode": {
    "name": "ipython",
    "version": 3
   },
   "file_extension": ".py",
   "mimetype": "text/x-python",
   "name": "python",
   "nbconvert_exporter": "python",
   "pygments_lexer": "ipython3",
   "version": "3.10.6"
  }
 },
 "nbformat": 4,
 "nbformat_minor": 5
}
